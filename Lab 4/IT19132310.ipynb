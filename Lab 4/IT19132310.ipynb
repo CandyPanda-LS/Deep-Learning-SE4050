{
  "cells": [
    {
      "cell_type": "markdown",
      "metadata": {
        "id": "deXIS1MN7jB7"
      },
      "source": [
        "#SE4050 - Deep Learning\n",
        "## Lab Activty 04\n",
        "\n",
        "\n",
        "### Student ID : IT19132310\n",
        "### Name : Hettiarachchi L.S"
      ]
    },
    {
      "cell_type": "code",
      "execution_count": 26,
      "metadata": {
        "id": "uiWLjtox7ea4"
      },
      "outputs": [],
      "source": [
        "#Imports\n",
        "#Please include all your imports here\n",
        "import tensorflow as tf \n",
        "from tensorflow.keras.models import Sequential\n",
        "from tensorflow.keras.layers import Conv2D, MaxPooling2D, BatchNormalization, Flatten, LeakyReLU, Dense, Dropout\n",
        "import matplotlib.pyplot as plt \n",
        "import numpy as np\n",
        "from tensorflow.keras.callbacks import Callback, EarlyStopping, ReduceLROnPlateau"
      ]
    },
    {
      "cell_type": "code",
      "execution_count": 13,
      "metadata": {
        "colab": {
          "base_uri": "https://localhost:8080/"
        },
        "id": "Yp0bYnogMKNw",
        "outputId": "f24ab4c5-a447-42e5-bbbc-86fcb03bb90a"
      },
      "outputs": [
        {
          "name": "stdout",
          "output_type": "stream",
          "text": [
            "Archive:  Dataset.zip\n",
            "caution: filename not matched:  /Datset\n"
          ]
        }
      ],
      "source": [
        "!unzip Dataset.zip /Datset"
      ]
    },
    {
      "cell_type": "code",
      "execution_count": 14,
      "metadata": {
        "id": "v_gkOC9w8FQS"
      },
      "outputs": [],
      "source": [
        "#Please include any pre-processing or data visualization here. \n",
        "#must include dataset loading, train test split, here. \n",
        "train_path = \"/content\"\n",
        "test_path = \"/content\"\n"
      ]
    },
    {
      "cell_type": "code",
      "execution_count": 15,
      "metadata": {
        "id": "bjheomtq9m09"
      },
      "outputs": [],
      "source": [
        "datagen = tf.keras.preprocessing.image.ImageDataGenerator(rescale=1/255.)"
      ]
    },
    {
      "cell_type": "code",
      "execution_count": 16,
      "metadata": {
        "colab": {
          "base_uri": "https://localhost:8080/"
        },
        "id": "jFAUMg_18WVZ",
        "outputId": "44a19fff-1348-448b-a482-559b0fa09f68"
      },
      "outputs": [
        {
          "name": "stdout",
          "output_type": "stream",
          "text": [
            "Found 455 images belonging to 9 classes.\n",
            "Found 455 images belonging to 9 classes.\n"
          ]
        }
      ],
      "source": [
        "#Please include your model here. use the below fomat. Model variable name should be 'model'\n",
        "# model = keras.Sequential()\n",
        "# model.add(........)\n",
        "\n",
        "train = datagen.flow_from_directory(train_path,target_size=(48,48),class_mode=\"sparse\", seed=1, color_mode=\"grayscale\", batch_size=128)\n",
        "test = datagen.flow_from_directory(test_path,target_size=(48,48),class_mode=\"sparse\", seed=1, color_mode=\"grayscale\", batch_size=128)\n"
      ]
    },
    {
      "cell_type": "code",
      "execution_count": 17,
      "metadata": {
        "colab": {
          "base_uri": "https://localhost:8080/"
        },
        "id": "xMofQb8tJ28Z",
        "outputId": "242d82f3-8192-4a2f-ea82-a3b2a3360938"
      },
      "outputs": [
        {
          "name": "stdout",
          "output_type": "stream",
          "text": [
            "{'.config': 0, 'angry': 1, 'crying': 2, 'embarrassed': 3, 'happy': 4, 'pleased': 5, 'sad': 6, 'sample_data': 7, 'shock': 8}\n"
          ]
        }
      ],
      "source": [
        "print(train.class_indices)\n",
        "emotion_dict = {0: \"angry\", 1: \"crying\", 2: \"embarassed\", 3: \"happy\", 4: \"pleased\", 5: \"sad\", 6: \"shock\"}"
      ]
    },
    {
      "cell_type": "code",
      "execution_count": 18,
      "metadata": {
        "colab": {
          "base_uri": "https://localhost:8080/"
        },
        "id": "G09iWmL-MlTT",
        "outputId": "c7004c82-9f1a-4879-a205-71d2c7adabd7"
      },
      "outputs": [
        {
          "name": "stdout",
          "output_type": "stream",
          "text": [
            "(128, 48, 48, 1) (128,)\n"
          ]
        }
      ],
      "source": [
        "x, y = train.next()\n",
        "print(x.shape, y.shape)\n",
        "train.reset()"
      ]
    },
    {
      "cell_type": "code",
      "execution_count": 19,
      "metadata": {
        "colab": {
          "base_uri": "https://localhost:8080/"
        },
        "id": "e0bin44H85aa",
        "outputId": "59121253-0e7c-4c2a-9a27-dce4f9af6f75"
      },
      "outputs": [
        {
          "name": "stdout",
          "output_type": "stream",
          "text": [
            "Model: \"sequential\"\n",
            "_________________________________________________________________\n",
            " Layer (type)                Output Shape              Param #   \n",
            "=================================================================\n",
            " conv2d (Conv2D)             (None, 48, 48, 32)        320       \n",
            "                                                                 \n",
            " leaky_re_lu (LeakyReLU)     (None, 48, 48, 32)        0         \n",
            "                                                                 \n",
            " conv2d_1 (Conv2D)           (None, 48, 48, 32)        9248      \n",
            "                                                                 \n",
            " leaky_re_lu_1 (LeakyReLU)   (None, 48, 48, 32)        0         \n",
            "                                                                 \n",
            " batch_normalization (BatchN  (None, 48, 48, 32)       128       \n",
            " ormalization)                                                   \n",
            "                                                                 \n",
            " max_pooling2d (MaxPooling2D  (None, 24, 24, 32)       0         \n",
            " )                                                               \n",
            "                                                                 \n",
            " dropout (Dropout)           (None, 24, 24, 32)        0         \n",
            "                                                                 \n",
            " conv2d_2 (Conv2D)           (None, 24, 24, 64)        18496     \n",
            "                                                                 \n",
            " leaky_re_lu_2 (LeakyReLU)   (None, 24, 24, 64)        0         \n",
            "                                                                 \n",
            " conv2d_3 (Conv2D)           (None, 24, 24, 64)        36928     \n",
            "                                                                 \n",
            " leaky_re_lu_3 (LeakyReLU)   (None, 24, 24, 64)        0         \n",
            "                                                                 \n",
            " batch_normalization_1 (Batc  (None, 24, 24, 64)       256       \n",
            " hNormalization)                                                 \n",
            "                                                                 \n",
            " max_pooling2d_1 (MaxPooling  (None, 12, 12, 64)       0         \n",
            " 2D)                                                             \n",
            "                                                                 \n",
            " dropout_1 (Dropout)         (None, 12, 12, 64)        0         \n",
            "                                                                 \n",
            " conv2d_4 (Conv2D)           (None, 12, 12, 128)       73856     \n",
            "                                                                 \n",
            " leaky_re_lu_4 (LeakyReLU)   (None, 12, 12, 128)       0         \n",
            "                                                                 \n",
            " conv2d_5 (Conv2D)           (None, 12, 12, 128)       147584    \n",
            "                                                                 \n",
            " leaky_re_lu_5 (LeakyReLU)   (None, 12, 12, 128)       0         \n",
            "                                                                 \n",
            " conv2d_6 (Conv2D)           (None, 12, 12, 128)       147584    \n",
            "                                                                 \n",
            " leaky_re_lu_6 (LeakyReLU)   (None, 12, 12, 128)       0         \n",
            "                                                                 \n",
            " batch_normalization_2 (Batc  (None, 12, 12, 128)      512       \n",
            " hNormalization)                                                 \n",
            "                                                                 \n",
            " max_pooling2d_2 (MaxPooling  (None, 6, 6, 128)        0         \n",
            " 2D)                                                             \n",
            "                                                                 \n",
            " dropout_2 (Dropout)         (None, 6, 6, 128)         0         \n",
            "                                                                 \n",
            " flatten (Flatten)           (None, 4608)              0         \n",
            "                                                                 \n",
            " dense (Dense)               (None, 128)               589952    \n",
            "                                                                 \n",
            " dropout_3 (Dropout)         (None, 128)               0         \n",
            "                                                                 \n",
            " dense_1 (Dense)             (None, 9)                 1161      \n",
            "                                                                 \n",
            "=================================================================\n",
            "Total params: 1,026,025\n",
            "Trainable params: 1,025,577\n",
            "Non-trainable params: 448\n",
            "_________________________________________________________________\n"
          ]
        }
      ],
      "source": [
        "# Include your model evaluation here\n",
        "#must include accuracy\n",
        "\n",
        "model = Sequential([\n",
        "    Conv2D(32, (3,3), input_shape=(48,48,1),padding=\"same\"),\n",
        "    LeakyReLU(),\n",
        "    Conv2D(32, (3,3), padding=\"same\"),\n",
        "    LeakyReLU(),\n",
        "    BatchNormalization(),\n",
        "    MaxPooling2D((2,2)),\n",
        "    Dropout(0.2),\n",
        "    \n",
        "    Conv2D(64,(3,3),padding=\"same\"),\n",
        "    LeakyReLU(),\n",
        "    Conv2D(64,(3,3), padding=\"same\"),\n",
        "    LeakyReLU(),\n",
        "    BatchNormalization(),\n",
        "    MaxPooling2D((2,2)),\n",
        "    Dropout(0.3),\n",
        "    \n",
        "    Conv2D(128,(3,3),padding=\"same\"),\n",
        "    LeakyReLU(),\n",
        "    Conv2D(128,(3,3), padding=\"same\"),\n",
        "    LeakyReLU(),\n",
        "    Conv2D(128,(3,3), padding=\"same\"),\n",
        "    LeakyReLU(),\n",
        "    BatchNormalization(),\n",
        "    MaxPooling2D((2,2)),\n",
        "    Dropout(0.4),\n",
        "    \n",
        "    Flatten(),\n",
        "#     tf.keras.layers.GlobalAveragePooling2D(),\n",
        "#     Dropout(0.4),\n",
        "    \n",
        "    Dense(128, activation='relu'),\n",
        "    Dropout(0.4),\n",
        "#     Dense(64, activation=\"relu\"),\n",
        "    \n",
        "    Dense(len(train.class_indices), activation=\"softmax\")\n",
        "])\n",
        "model.summary()\n",
        "model.compile(\n",
        "    optimizer=tf.keras.optimizers.RMSprop(learning_rate=1e-3), \n",
        "    loss='sparse_categorical_crossentropy', \n",
        "    metrics=['accuracy']\n",
        ")"
      ]
    },
    {
      "cell_type": "code",
      "execution_count": 20,
      "metadata": {
        "colab": {
          "base_uri": "https://localhost:8080/"
        },
        "id": "VDdtaEvUM4Sp",
        "outputId": "6f460dd5-441b-4a9d-b4fa-8695f2c1df9c"
      },
      "outputs": [
        {
          "name": "stdout",
          "output_type": "stream",
          "text": [
            "Model: \"DCNN\"\n",
            "_________________________________________________________________\n",
            " Layer (type)                Output Shape              Param #   \n",
            "=================================================================\n",
            " conv2d_1 (Conv2D)           (None, 48, 48, 64)        1664      \n",
            "                                                                 \n",
            " batchnorm_1 (BatchNormaliza  (None, 48, 48, 64)       256       \n",
            " tion)                                                           \n",
            "                                                                 \n",
            " conv2d_2 (Conv2D)           (None, 48, 48, 64)        102464    \n",
            "                                                                 \n",
            " batchnorm_2 (BatchNormaliza  (None, 48, 48, 64)       256       \n",
            " tion)                                                           \n",
            "                                                                 \n",
            " maxpool2d_1 (MaxPooling2D)  (None, 24, 24, 64)        0         \n",
            "                                                                 \n",
            " dropout_1 (Dropout)         (None, 24, 24, 64)        0         \n",
            "                                                                 \n",
            " conv2d_3 (Conv2D)           (None, 24, 24, 128)       73856     \n",
            "                                                                 \n",
            " batchnorm_3 (BatchNormaliza  (None, 24, 24, 128)      512       \n",
            " tion)                                                           \n",
            "                                                                 \n",
            " conv2d_4 (Conv2D)           (None, 24, 24, 128)       147584    \n",
            "                                                                 \n",
            " batchnorm_4 (BatchNormaliza  (None, 24, 24, 128)      512       \n",
            " tion)                                                           \n",
            "                                                                 \n",
            " maxpool2d_2 (MaxPooling2D)  (None, 12, 12, 128)       0         \n",
            "                                                                 \n",
            " dropout_2 (Dropout)         (None, 12, 12, 128)       0         \n",
            "                                                                 \n",
            " conv2d_5 (Conv2D)           (None, 12, 12, 256)       295168    \n",
            "                                                                 \n",
            " batchnorm_5 (BatchNormaliza  (None, 12, 12, 256)      1024      \n",
            " tion)                                                           \n",
            "                                                                 \n",
            " conv2d_6 (Conv2D)           (None, 12, 12, 256)       590080    \n",
            "                                                                 \n",
            " batchnorm_6 (BatchNormaliza  (None, 12, 12, 256)      1024      \n",
            " tion)                                                           \n",
            "                                                                 \n",
            " maxpool2d_3 (MaxPooling2D)  (None, 6, 6, 256)         0         \n",
            "                                                                 \n",
            " dropout_3 (Dropout)         (None, 6, 6, 256)         0         \n",
            "                                                                 \n",
            " flatten (Flatten)           (None, 9216)              0         \n",
            "                                                                 \n",
            " dense_1 (Dense)             (None, 128)               1179776   \n",
            "                                                                 \n",
            " batchnorm_7 (BatchNormaliza  (None, 128)              512       \n",
            " tion)                                                           \n",
            "                                                                 \n",
            " dropout_4 (Dropout)         (None, 128)               0         \n",
            "                                                                 \n",
            " out_layer (Dense)           (None, 7)                 903       \n",
            "                                                                 \n",
            "=================================================================\n",
            "Total params: 2,395,591\n",
            "Trainable params: 2,393,543\n",
            "Non-trainable params: 2,048\n",
            "_________________________________________________________________\n"
          ]
        }
      ],
      "source": [
        "net = Sequential(name='DCNN')\n",
        "\n",
        "net.add(\n",
        "    Conv2D(\n",
        "        filters=64,\n",
        "        kernel_size=(5,5),\n",
        "        input_shape=(48, 48, 1),\n",
        "        activation='elu',\n",
        "        padding='same',\n",
        "        kernel_initializer='he_normal',\n",
        "        name='conv2d_1'\n",
        "    )\n",
        ")\n",
        "net.add(BatchNormalization(name='batchnorm_1'))\n",
        "net.add(\n",
        "    Conv2D(\n",
        "        filters=64,\n",
        "        kernel_size=(5,5),\n",
        "        activation='elu',\n",
        "        padding='same',\n",
        "        kernel_initializer='he_normal',\n",
        "        name='conv2d_2'\n",
        "    )\n",
        ")\n",
        "net.add(BatchNormalization(name='batchnorm_2'))\n",
        "\n",
        "net.add(MaxPooling2D(pool_size=(2,2), name='maxpool2d_1'))\n",
        "net.add(Dropout(0.4, name='dropout_1'))\n",
        "\n",
        "net.add(\n",
        "    Conv2D(\n",
        "        filters=128,\n",
        "        kernel_size=(3,3),\n",
        "        activation='elu',\n",
        "        padding='same',\n",
        "        kernel_initializer='he_normal',\n",
        "        name='conv2d_3'\n",
        "    )\n",
        ")\n",
        "net.add(BatchNormalization(name='batchnorm_3'))\n",
        "net.add(\n",
        "    Conv2D(\n",
        "        filters=128,\n",
        "        kernel_size=(3,3),\n",
        "        activation='elu',\n",
        "        padding='same',\n",
        "        kernel_initializer='he_normal',\n",
        "        name='conv2d_4'\n",
        "    )\n",
        ")\n",
        "net.add(BatchNormalization(name='batchnorm_4'))\n",
        "\n",
        "net.add(MaxPooling2D(pool_size=(2,2), name='maxpool2d_2'))\n",
        "net.add(Dropout(0.4, name='dropout_2'))\n",
        "\n",
        "net.add(\n",
        "    Conv2D(\n",
        "        filters=256,\n",
        "        kernel_size=(3,3),\n",
        "        activation='elu',\n",
        "        padding='same',\n",
        "        kernel_initializer='he_normal',\n",
        "        name='conv2d_5'\n",
        "    )\n",
        ")\n",
        "net.add(BatchNormalization(name='batchnorm_5'))\n",
        "net.add(\n",
        "    Conv2D(\n",
        "        filters=256,\n",
        "        kernel_size=(3,3),\n",
        "        activation='elu',\n",
        "        padding='same',\n",
        "        kernel_initializer='he_normal',\n",
        "        name='conv2d_6'\n",
        "    )\n",
        ")\n",
        "net.add(BatchNormalization(name='batchnorm_6'))\n",
        "\n",
        "net.add(MaxPooling2D(pool_size=(2,2), name='maxpool2d_3'))\n",
        "net.add(Dropout(0.5, name='dropout_3'))\n",
        "\n",
        "net.add(Flatten(name='flatten'))\n",
        "\n",
        "net.add(\n",
        "    Dense(\n",
        "        128,\n",
        "        activation='elu',\n",
        "        kernel_initializer='he_normal',\n",
        "        name='dense_1'\n",
        "    )\n",
        ")\n",
        "net.add(BatchNormalization(name='batchnorm_7'))\n",
        "\n",
        "net.add(Dropout(0.6, name='dropout_4'))\n",
        "\n",
        "net.add(\n",
        "    Dense(\n",
        "        7,\n",
        "        activation='softmax',\n",
        "        name='out_layer'\n",
        "    )\n",
        ")\n",
        "\n",
        "net.compile(\n",
        "    loss='sparse_categorical_crossentropy',\n",
        "    optimizer='adam',\n",
        "    metrics=['accuracy']\n",
        ")\n",
        "\n",
        "net.summary()"
      ]
    },
    {
      "cell_type": "code",
      "execution_count": 21,
      "metadata": {
        "id": "61oTJURfNAhM"
      },
      "outputs": [],
      "source": [
        "model.compile(optimizer=tf.keras.optimizers.Adam(learning_rate=1e-4), loss='sparse_categorical_crossentropy', metrics=['accuracy'])"
      ]
    },
    {
      "cell_type": "code",
      "execution_count": 22,
      "metadata": {
        "id": "tH3sBhKoNEQV"
      },
      "outputs": [],
      "source": [
        "early_stopping = EarlyStopping(\n",
        "    monitor='val_accuracy',\n",
        "    min_delta=0.00005,\n",
        "    patience=11,\n",
        "    verbose=1,\n",
        "    restore_best_weights=True,\n",
        ")\n",
        "\n",
        "lr_scheduler = ReduceLROnPlateau(\n",
        "    monitor='val_accuracy',\n",
        "    factor=0.5,\n",
        "    patience=7,\n",
        "    min_lr=1e-7,\n",
        "    verbose=1,\n",
        ")\n",
        "\n",
        "callbacks = [\n",
        "    early_stopping,\n",
        "    lr_scheduler,\n",
        "]"
      ]
    },
    {
      "cell_type": "code",
      "execution_count": 23,
      "metadata": {
        "colab": {
          "base_uri": "https://localhost:8080/"
        },
        "id": "W6LdVt2HNHmj",
        "outputId": "9bbdf984-e09e-4861-f1e5-50afcc99eba9"
      },
      "outputs": [
        {
          "name": "stdout",
          "output_type": "stream",
          "text": [
            "Epoch 1/20\n",
            "4/4 [==============================] - 15s 4s/step - loss: 4.8594 - accuracy: 0.1253 - val_loss: 2.1814 - val_accuracy: 0.2088 - lr: 1.0000e-04\n",
            "Epoch 2/20\n",
            "4/4 [==============================] - 13s 3s/step - loss: 3.7735 - accuracy: 0.1582 - val_loss: 2.1840 - val_accuracy: 0.1802 - lr: 1.0000e-04\n",
            "Epoch 3/20\n",
            "4/4 [==============================] - 13s 4s/step - loss: 3.1810 - accuracy: 0.1890 - val_loss: 2.1846 - val_accuracy: 0.0813 - lr: 1.0000e-04\n",
            "Epoch 4/20\n",
            "4/4 [==============================] - 13s 3s/step - loss: 2.7457 - accuracy: 0.2132 - val_loss: 2.1968 - val_accuracy: 0.0813 - lr: 1.0000e-04\n",
            "Epoch 5/20\n",
            "4/4 [==============================] - 13s 3s/step - loss: 2.4715 - accuracy: 0.1868 - val_loss: 2.2185 - val_accuracy: 0.0813 - lr: 1.0000e-04\n",
            "Epoch 6/20\n",
            "4/4 [==============================] - 13s 3s/step - loss: 2.2516 - accuracy: 0.2132 - val_loss: 2.2531 - val_accuracy: 0.0813 - lr: 1.0000e-04\n",
            "Epoch 7/20\n",
            "4/4 [==============================] - 13s 3s/step - loss: 2.2448 - accuracy: 0.1934 - val_loss: 2.2995 - val_accuracy: 0.0813 - lr: 1.0000e-04\n",
            "Epoch 8/20\n",
            "4/4 [==============================] - ETA: 0s - loss: 2.0796 - accuracy: 0.2088\n",
            "Epoch 8: ReduceLROnPlateau reducing learning rate to 4.999999873689376e-05.\n",
            "4/4 [==============================] - 13s 3s/step - loss: 2.0796 - accuracy: 0.2088 - val_loss: 2.3597 - val_accuracy: 0.0813 - lr: 1.0000e-04\n",
            "Epoch 9/20\n",
            "4/4 [==============================] - 13s 4s/step - loss: 2.0279 - accuracy: 0.2154 - val_loss: 2.4301 - val_accuracy: 0.0813 - lr: 5.0000e-05\n",
            "Epoch 10/20\n",
            "4/4 [==============================] - 13s 4s/step - loss: 2.0470 - accuracy: 0.2286 - val_loss: 2.5148 - val_accuracy: 0.0813 - lr: 5.0000e-05\n",
            "Epoch 11/20\n",
            "4/4 [==============================] - 14s 4s/step - loss: 2.0165 - accuracy: 0.2615 - val_loss: 2.6101 - val_accuracy: 0.0813 - lr: 5.0000e-05\n",
            "Epoch 12/20\n",
            "4/4 [==============================] - ETA: 0s - loss: 2.0088 - accuracy: 0.2198Restoring model weights from the end of the best epoch: 1.\n",
            "4/4 [==============================] - 13s 4s/step - loss: 2.0088 - accuracy: 0.2198 - val_loss: 2.7151 - val_accuracy: 0.0813 - lr: 5.0000e-05\n",
            "Epoch 12: early stopping\n"
          ]
        },
        {
          "data": {
            "text/plain": [
              "<keras.callbacks.History at 0x7f9d1458f510>"
            ]
          },
          "execution_count": 23,
          "metadata": {},
          "output_type": "execute_result"
        }
      ],
      "source": [
        "model.fit(train, validation_data=test, epochs=20, callbacks=callbacks)"
      ]
    },
    {
      "cell_type": "code",
      "execution_count": 24,
      "metadata": {
        "id": "DE7DMRaTOd3F"
      },
      "outputs": [],
      "source": [
        "model.save('63.h5')"
      ]
    },
    {
      "cell_type": "code",
      "execution_count": 27,
      "metadata": {
        "colab": {
          "base_uri": "https://localhost:8080/"
        },
        "id": "NHJg3sJ3OhTQ",
        "outputId": "50f8d7c4-3d9e-4e44-ccb9-128cbeb3a5f1"
      },
      "outputs": [
        {
          "name": "stdout",
          "output_type": "stream",
          "text": [
            "4/4 [==============================] - 1s 166ms/step\n",
            "correct prediction: 0.2265625\n"
          ]
        }
      ],
      "source": [
        "x,y = test.next()\n",
        "preds = model.predict(x)\n",
        "idx = np.argmax(preds, axis = 1)\n",
        "# idx.shape\n",
        "print('correct prediction:', np.sum((y == idx)*1)/128)"
      ]
    },
    {
      "cell_type": "code",
      "execution_count": 34,
      "metadata": {
        "colab": {
          "base_uri": "https://localhost:8080/",
          "height": 728
        },
        "id": "K3KYcl5POySh",
        "outputId": "f1353ed7-f6f1-4f9e-b136-50505a6c18be"
      },
      "outputs": [
        {
          "ename": "TypeError",
          "evalue": "ignored",
          "output_type": "error",
          "traceback": [
            "\u001b[0;31m---------------------------------------------------------------------------\u001b[0m",
            "\u001b[0;31mTypeError\u001b[0m                                 Traceback (most recent call last)",
            "\u001b[0;32m<ipython-input-34-91d4df82386b>\u001b[0m in \u001b[0;36m<module>\u001b[0;34m\u001b[0m\n\u001b[1;32m      6\u001b[0m     \u001b[0mk\u001b[0m \u001b[0;34m+=\u001b[0m \u001b[0;36m1\u001b[0m\u001b[0;34m\u001b[0m\u001b[0;34m\u001b[0m\u001b[0m\n\u001b[1;32m      7\u001b[0m     \u001b[0max\u001b[0m \u001b[0;34m=\u001b[0m \u001b[0mplt\u001b[0m\u001b[0;34m.\u001b[0m\u001b[0msubplot\u001b[0m\u001b[0;34m(\u001b[0m\u001b[0;36m7\u001b[0m\u001b[0;34m,\u001b[0m \u001b[0;36m7\u001b[0m\u001b[0;34m,\u001b[0m \u001b[0mk\u001b[0m\u001b[0;34m)\u001b[0m\u001b[0;34m\u001b[0m\u001b[0;34m\u001b[0m\u001b[0m\n\u001b[0;32m----> 8\u001b[0;31m     \u001b[0max\u001b[0m\u001b[0;34m.\u001b[0m\u001b[0mimshow\u001b[0m\u001b[0;34m(\u001b[0m\u001b[0mpx\u001b[0m\u001b[0;34m,\u001b[0m \u001b[0mcmap\u001b[0m\u001b[0;34m=\u001b[0m\u001b[0;34m'gray'\u001b[0m\u001b[0;34m)\u001b[0m\u001b[0;34m\u001b[0m\u001b[0;34m\u001b[0m\u001b[0m\n\u001b[0m\u001b[1;32m      9\u001b[0m     \u001b[0max\u001b[0m\u001b[0;34m.\u001b[0m\u001b[0mset_xticks\u001b[0m\u001b[0;34m(\u001b[0m\u001b[0;34m[\u001b[0m\u001b[0;34m]\u001b[0m\u001b[0;34m)\u001b[0m\u001b[0;34m\u001b[0m\u001b[0;34m\u001b[0m\u001b[0m\n\u001b[1;32m     10\u001b[0m     \u001b[0max\u001b[0m\u001b[0;34m.\u001b[0m\u001b[0mset_yticks\u001b[0m\u001b[0;34m(\u001b[0m\u001b[0;34m[\u001b[0m\u001b[0;34m]\u001b[0m\u001b[0;34m)\u001b[0m\u001b[0;34m\u001b[0m\u001b[0;34m\u001b[0m\u001b[0m\n",
            "\u001b[0;32m/usr/local/lib/python3.7/dist-packages/matplotlib/__init__.py\u001b[0m in \u001b[0;36minner\u001b[0;34m(ax, data, *args, **kwargs)\u001b[0m\n\u001b[1;32m   1563\u001b[0m     \u001b[0;32mdef\u001b[0m \u001b[0minner\u001b[0m\u001b[0;34m(\u001b[0m\u001b[0max\u001b[0m\u001b[0;34m,\u001b[0m \u001b[0;34m*\u001b[0m\u001b[0margs\u001b[0m\u001b[0;34m,\u001b[0m \u001b[0mdata\u001b[0m\u001b[0;34m=\u001b[0m\u001b[0;32mNone\u001b[0m\u001b[0;34m,\u001b[0m \u001b[0;34m**\u001b[0m\u001b[0mkwargs\u001b[0m\u001b[0;34m)\u001b[0m\u001b[0;34m:\u001b[0m\u001b[0;34m\u001b[0m\u001b[0;34m\u001b[0m\u001b[0m\n\u001b[1;32m   1564\u001b[0m         \u001b[0;32mif\u001b[0m \u001b[0mdata\u001b[0m \u001b[0;32mis\u001b[0m \u001b[0;32mNone\u001b[0m\u001b[0;34m:\u001b[0m\u001b[0;34m\u001b[0m\u001b[0;34m\u001b[0m\u001b[0m\n\u001b[0;32m-> 1565\u001b[0;31m             \u001b[0;32mreturn\u001b[0m \u001b[0mfunc\u001b[0m\u001b[0;34m(\u001b[0m\u001b[0max\u001b[0m\u001b[0;34m,\u001b[0m \u001b[0;34m*\u001b[0m\u001b[0mmap\u001b[0m\u001b[0;34m(\u001b[0m\u001b[0msanitize_sequence\u001b[0m\u001b[0;34m,\u001b[0m \u001b[0margs\u001b[0m\u001b[0;34m)\u001b[0m\u001b[0;34m,\u001b[0m \u001b[0;34m**\u001b[0m\u001b[0mkwargs\u001b[0m\u001b[0;34m)\u001b[0m\u001b[0;34m\u001b[0m\u001b[0;34m\u001b[0m\u001b[0m\n\u001b[0m\u001b[1;32m   1566\u001b[0m \u001b[0;34m\u001b[0m\u001b[0m\n\u001b[1;32m   1567\u001b[0m         \u001b[0mbound\u001b[0m \u001b[0;34m=\u001b[0m \u001b[0mnew_sig\u001b[0m\u001b[0;34m.\u001b[0m\u001b[0mbind\u001b[0m\u001b[0;34m(\u001b[0m\u001b[0max\u001b[0m\u001b[0;34m,\u001b[0m \u001b[0;34m*\u001b[0m\u001b[0margs\u001b[0m\u001b[0;34m,\u001b[0m \u001b[0;34m**\u001b[0m\u001b[0mkwargs\u001b[0m\u001b[0;34m)\u001b[0m\u001b[0;34m\u001b[0m\u001b[0;34m\u001b[0m\u001b[0m\n",
            "\u001b[0;32m/usr/local/lib/python3.7/dist-packages/matplotlib/cbook/deprecation.py\u001b[0m in \u001b[0;36mwrapper\u001b[0;34m(*args, **kwargs)\u001b[0m\n\u001b[1;32m    356\u001b[0m                 \u001b[0;34mf\"%(removal)s.  If any parameter follows {name!r}, they \"\u001b[0m\u001b[0;34m\u001b[0m\u001b[0;34m\u001b[0m\u001b[0m\n\u001b[1;32m    357\u001b[0m                 f\"should be pass as keyword, not positionally.\")\n\u001b[0;32m--> 358\u001b[0;31m         \u001b[0;32mreturn\u001b[0m \u001b[0mfunc\u001b[0m\u001b[0;34m(\u001b[0m\u001b[0;34m*\u001b[0m\u001b[0margs\u001b[0m\u001b[0;34m,\u001b[0m \u001b[0;34m**\u001b[0m\u001b[0mkwargs\u001b[0m\u001b[0;34m)\u001b[0m\u001b[0;34m\u001b[0m\u001b[0;34m\u001b[0m\u001b[0m\n\u001b[0m\u001b[1;32m    359\u001b[0m \u001b[0;34m\u001b[0m\u001b[0m\n\u001b[1;32m    360\u001b[0m     \u001b[0;32mreturn\u001b[0m \u001b[0mwrapper\u001b[0m\u001b[0;34m\u001b[0m\u001b[0;34m\u001b[0m\u001b[0m\n",
            "\u001b[0;32m/usr/local/lib/python3.7/dist-packages/matplotlib/cbook/deprecation.py\u001b[0m in \u001b[0;36mwrapper\u001b[0;34m(*args, **kwargs)\u001b[0m\n\u001b[1;32m    356\u001b[0m                 \u001b[0;34mf\"%(removal)s.  If any parameter follows {name!r}, they \"\u001b[0m\u001b[0;34m\u001b[0m\u001b[0;34m\u001b[0m\u001b[0m\n\u001b[1;32m    357\u001b[0m                 f\"should be pass as keyword, not positionally.\")\n\u001b[0;32m--> 358\u001b[0;31m         \u001b[0;32mreturn\u001b[0m \u001b[0mfunc\u001b[0m\u001b[0;34m(\u001b[0m\u001b[0;34m*\u001b[0m\u001b[0margs\u001b[0m\u001b[0;34m,\u001b[0m \u001b[0;34m**\u001b[0m\u001b[0mkwargs\u001b[0m\u001b[0;34m)\u001b[0m\u001b[0;34m\u001b[0m\u001b[0;34m\u001b[0m\u001b[0m\n\u001b[0m\u001b[1;32m    359\u001b[0m \u001b[0;34m\u001b[0m\u001b[0m\n\u001b[1;32m    360\u001b[0m     \u001b[0;32mreturn\u001b[0m \u001b[0mwrapper\u001b[0m\u001b[0;34m\u001b[0m\u001b[0;34m\u001b[0m\u001b[0m\n",
            "\u001b[0;32m/usr/local/lib/python3.7/dist-packages/matplotlib/axes/_axes.py\u001b[0m in \u001b[0;36mimshow\u001b[0;34m(self, X, cmap, norm, aspect, interpolation, alpha, vmin, vmax, origin, extent, shape, filternorm, filterrad, imlim, resample, url, **kwargs)\u001b[0m\n\u001b[1;32m   5624\u001b[0m                               resample=resample, **kwargs)\n\u001b[1;32m   5625\u001b[0m \u001b[0;34m\u001b[0m\u001b[0m\n\u001b[0;32m-> 5626\u001b[0;31m         \u001b[0mim\u001b[0m\u001b[0;34m.\u001b[0m\u001b[0mset_data\u001b[0m\u001b[0;34m(\u001b[0m\u001b[0mX\u001b[0m\u001b[0;34m)\u001b[0m\u001b[0;34m\u001b[0m\u001b[0;34m\u001b[0m\u001b[0m\n\u001b[0m\u001b[1;32m   5627\u001b[0m         \u001b[0mim\u001b[0m\u001b[0;34m.\u001b[0m\u001b[0mset_alpha\u001b[0m\u001b[0;34m(\u001b[0m\u001b[0malpha\u001b[0m\u001b[0;34m)\u001b[0m\u001b[0;34m\u001b[0m\u001b[0;34m\u001b[0m\u001b[0m\n\u001b[1;32m   5628\u001b[0m         \u001b[0;32mif\u001b[0m \u001b[0mim\u001b[0m\u001b[0;34m.\u001b[0m\u001b[0mget_clip_path\u001b[0m\u001b[0;34m(\u001b[0m\u001b[0;34m)\u001b[0m \u001b[0;32mis\u001b[0m \u001b[0;32mNone\u001b[0m\u001b[0;34m:\u001b[0m\u001b[0;34m\u001b[0m\u001b[0;34m\u001b[0m\u001b[0m\n",
            "\u001b[0;32m/usr/local/lib/python3.7/dist-packages/matplotlib/image.py\u001b[0m in \u001b[0;36mset_data\u001b[0;34m(self, A)\u001b[0m\n\u001b[1;32m    697\u001b[0m                 or self._A.ndim == 3 and self._A.shape[-1] in [3, 4]):\n\u001b[1;32m    698\u001b[0m             raise TypeError(\"Invalid shape {} for image data\"\n\u001b[0;32m--> 699\u001b[0;31m                             .format(self._A.shape))\n\u001b[0m\u001b[1;32m    700\u001b[0m \u001b[0;34m\u001b[0m\u001b[0m\n\u001b[1;32m    701\u001b[0m         \u001b[0;32mif\u001b[0m \u001b[0mself\u001b[0m\u001b[0;34m.\u001b[0m\u001b[0m_A\u001b[0m\u001b[0;34m.\u001b[0m\u001b[0mndim\u001b[0m \u001b[0;34m==\u001b[0m \u001b[0;36m3\u001b[0m\u001b[0;34m:\u001b[0m\u001b[0;34m\u001b[0m\u001b[0;34m\u001b[0m\u001b[0m\n",
            "\u001b[0;31mTypeError\u001b[0m: Invalid shape (48, 48, 1) for image data"
          ]
        },
        {
          "data": {
            "image/png": "[encoded data removed]",
            "text/plain": [
              "<Figure size 3456x3456 with 1 Axes>"
            ]
          },
          "metadata": {
            "needs_background": "light"
          },
          "output_type": "display_data"
        }
      ],
      "source": [
        "\n",
        "fig = plt.figure(1, (48, 48))\n",
        "\n",
        "k = 0\n",
        "for j in range(49):\n",
        "    px = x[j]\n",
        "    k += 1\n",
        "    ax = plt.subplot(7, 7, k)\n",
        "    ax.imshow(px, cmap='gray')\n",
        "    ax.set_xticks([])\n",
        "    ax.set_yticks([])\n",
        "    \n",
        "    if  emotion_dict[y[j]] == emotion_dict[idx[j]]:\n",
        "        for axis in ['top','bottom','left','right']:\n",
        "            ax.spines[axis].set_linewidth(5)\n",
        "            ax.spines[axis].set_color('green')\n",
        "        ax.set_title(emotion_dict[idx[j]])\n",
        "\n",
        "    else:\n",
        "        for axis in ['top','bottom','left','right']:\n",
        "            ax.spines[axis].set_linewidth(5)\n",
        "            ax.spines[axis].set_color('red')\n",
        "        ax.set_title('P:'+emotion_dict[idx[j]]+\" C:\"+emotion_dict[y[j]])\n",
        "    plt.tight_layout()"
      ]
    },
    {
      "cell_type": "markdown",
      "metadata": {
        "id": "NjKHIG29-SKh"
      },
      "source": [
        "Include the details of your model here. Marks will be moslty based on the desription below and how it agree with the Model you have built. So it is okay for the accuracy to be low as long as you undertand what the model you have build does and how it behaves. :)\n",
        "\n",
        "Remeber \"More Layers\" doesn't always results in \"High Accuracy\"\n",
        "\n",
        "1.  Layers\n",
        "\n",
        "\n",
        "\n",
        ">  > Layer 1 : Type of Layer, \n",
        "\n",
        "> > > Parameters(trainable)\n",
        "\n",
        "> > > Hyper-Parameters\n",
        "\n",
        "> > > dimmentions\n",
        "\n",
        "> > > usage and reson for parameter selection\n",
        "\n",
        ">  > Layer 2 : Type of layer, \n",
        "\n",
        "> > > Parameters(trainable)\n",
        "\n",
        "> > > Hyper-Parameters\n",
        "\n",
        "> > > dimmentions\n",
        "\n",
        "> > > usage reson for parameter selection\n",
        "\n",
        "\n",
        "\n",
        "\n"
      ]
    }
  ],
  "metadata": {
    "colab": {
      "provenance": []
    },
    "kernelspec": {
      "display_name": "Python 3",
      "name": "python3"
    },
    "language_info": {
      "name": "python"
    }
  },
  "nbformat": 4,
  "nbformat_minor": 0
}
